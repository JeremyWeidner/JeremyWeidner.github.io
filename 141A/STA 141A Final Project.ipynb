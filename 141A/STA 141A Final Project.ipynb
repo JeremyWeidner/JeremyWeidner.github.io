{
 "cells": [
  {
   "cell_type": "markdown",
   "metadata": {},
   "source": [
    "# Statistics 141A Final Project"
   ]
  },
  {
   "cell_type": "markdown",
   "metadata": {},
   "source": [
    "## Exploratory Data Analysis Project"
   ]
  },
  {
   "cell_type": "code",
   "execution_count": 32,
   "metadata": {
    "collapsed": false
   },
   "outputs": [],
   "source": [
    "library(ggplot2)\n",
    "library(vcd)\n",
    "library(MASS)\n",
    "library(corrgram)\n",
    "library(plyr)\n",
    "library(cowplot)\n",
    "library(hexbin)"
   ]
  },
  {
   "cell_type": "code",
   "execution_count": 3,
   "metadata": {
    "collapsed": true
   },
   "outputs": [],
   "source": [
    "setwd(\"C:/Users/Jeremy/Desktop/School/STA 141A/Final_Project\")\n",
    "d1 = read.csv(\"student-mat.csv\")"
   ]
  },
  {
   "cell_type": "code",
   "execution_count": 4,
   "metadata": {
    "collapsed": false
   },
   "outputs": [],
   "source": [
    "#dropped G1 and G2\n",
    "d1 = d1[,-c(31:32)]"
   ]
  },
  {
   "cell_type": "code",
   "execution_count": 33,
   "metadata": {
    "collapsed": false,
    "scrolled": false
   },
   "outputs": [
    {
     "name": "stdout",
     "output_type": "stream",
     "text": [
      "Start:  AIC=1154.04\n",
      "G3 ~ school + sex + age + address + famsize + Pstatus + Medu + \n",
      "    Fedu + Mjob + Fjob + reason + guardian + traveltime + studytime + \n",
      "    failures + schoolsup + famsup + paid + activities + nursery + \n",
      "    higher + internet + romantic + famrel + freetime + goout + \n",
      "    Dalc + Walc + health + absences\n",
      "\n",
      "             Df Sum of Sq    RSS    AIC\n",
      "- reason      3     31.33 6022.2 1150.1\n",
      "- guardian    2     10.18 6001.0 1150.7\n",
      "- Fjob        4     80.83 6071.7 1151.3\n",
      "- nursery     1      1.76 5992.6 1152.2\n",
      "- Fedu        1      2.39 5993.2 1152.2\n",
      "- Pstatus     1      3.30 5994.1 1152.3\n",
      "- traveltime  1      8.48 5999.3 1152.6\n",
      "- paid        1      8.53 5999.4 1152.6\n",
      "- activities  1      9.26 6000.1 1152.7\n",
      "- internet    1     10.91 6001.7 1152.8\n",
      "- Dalc        1     11.42 6002.3 1152.8\n",
      "- school      1     14.18 6005.0 1153.0\n",
      "- famrel      1     14.96 6005.8 1153.0\n",
      "- address     1     15.04 6005.9 1153.0\n",
      "- Walc        1     19.03 6009.9 1153.3\n",
      "- health      1     20.34 6011.2 1153.4\n",
      "- higher      1     27.28 6018.1 1153.8\n",
      "- freetime    1     27.40 6018.2 1153.8\n",
      "<none>                    5990.8 1154.0\n",
      "- Medu        1     33.73 6024.6 1154.3\n",
      "- famsize     1     34.97 6025.8 1154.3\n",
      "- age         1     50.34 6041.2 1155.3\n",
      "- famsup      1     54.70 6045.5 1155.6\n",
      "- studytime   1     61.59 6052.4 1156.1\n",
      "- absences    1     63.73 6054.6 1156.2\n",
      "- schoolsup   1     69.21 6060.0 1156.6\n",
      "- Mjob        4    163.57 6154.4 1156.7\n",
      "- romantic    1     91.81 6082.6 1158.0\n",
      "- sex         1    107.56 6098.4 1159.1\n",
      "- goout       1    118.00 6108.8 1159.8\n",
      "- failures    1    452.56 6443.4 1180.8\n",
      "\n",
      "Step:  AIC=1150.1\n",
      "G3 ~ school + sex + age + address + famsize + Pstatus + Medu + \n",
      "    Fedu + Mjob + Fjob + guardian + traveltime + studytime + \n",
      "    failures + schoolsup + famsup + paid + activities + nursery + \n",
      "    higher + internet + romantic + famrel + freetime + goout + \n",
      "    Dalc + Walc + health + absences\n",
      "\n",
      "             Df Sum of Sq    RSS    AIC\n",
      "- guardian    2     10.92 6033.1 1146.8\n",
      "- Fjob        4     93.07 6115.2 1148.2\n",
      "- nursery     1      1.39 6023.6 1148.2\n",
      "- Pstatus     1      2.83 6025.0 1148.3\n",
      "- Fedu        1      3.66 6025.8 1148.3\n",
      "- activities  1      5.94 6028.1 1148.5\n",
      "- traveltime  1     10.00 6032.2 1148.8\n",
      "- Dalc        1     10.49 6032.7 1148.8\n",
      "- address     1     10.60 6032.8 1148.8\n",
      "- internet    1     10.67 6032.8 1148.8\n",
      "- paid        1     11.58 6033.7 1148.9\n",
      "- school      1     14.07 6036.2 1149.0\n",
      "- famrel      1     15.45 6037.6 1149.1\n",
      "- Walc        1     20.73 6042.9 1149.5\n",
      "- higher      1     23.43 6045.6 1149.6\n",
      "- health      1     28.99 6051.2 1150.0\n",
      "- freetime    1     29.41 6051.6 1150.0\n",
      "<none>                    6022.2 1150.1\n",
      "- famsize     1     34.54 6056.7 1150.4\n",
      "- Medu        1     38.05 6060.2 1150.6\n",
      "- age         1     50.91 6073.1 1151.4\n",
      "- famsup      1     55.74 6077.9 1151.7\n",
      "- studytime   1     64.67 6086.8 1152.3\n",
      "- absences    1     69.81 6092.0 1152.7\n",
      "- schoolsup   1     71.01 6093.2 1152.7\n",
      "+ reason      3     31.33 5990.8 1154.0\n",
      "- romantic    1     91.29 6113.5 1154.0\n",
      "- Mjob        4    191.28 6213.4 1154.5\n",
      "- sex         1    100.84 6123.0 1154.7\n",
      "- goout       1    127.59 6149.8 1156.4\n",
      "- failures    1    472.77 6494.9 1178.0\n",
      "\n",
      "Step:  AIC=1146.82\n",
      "G3 ~ school + sex + age + address + famsize + Pstatus + Medu + \n",
      "    Fedu + Mjob + Fjob + traveltime + studytime + failures + \n",
      "    schoolsup + famsup + paid + activities + nursery + higher + \n",
      "    internet + romantic + famrel + freetime + goout + Dalc + \n",
      "    Walc + health + absences\n",
      "\n",
      "             Df Sum of Sq    RSS    AIC\n",
      "- Fjob        4     88.57 6121.7 1144.6\n",
      "- Fedu        1      2.96 6036.0 1145.0\n",
      "- nursery     1      3.01 6036.1 1145.0\n",
      "- Pstatus     1      3.97 6037.0 1145.1\n",
      "- activities  1      6.11 6039.2 1145.2\n",
      "- traveltime  1      8.58 6041.7 1145.4\n",
      "- Dalc        1      9.49 6042.6 1145.4\n",
      "- internet    1      9.79 6042.9 1145.5\n",
      "- school      1     11.97 6045.0 1145.6\n",
      "- paid        1     12.65 6045.7 1145.7\n",
      "- address     1     13.13 6046.2 1145.7\n",
      "- famrel      1     15.98 6049.1 1145.9\n",
      "- Walc        1     17.49 6050.6 1146.0\n",
      "- higher      1     28.34 6061.4 1146.7\n",
      "<none>                    6033.1 1146.8\n",
      "- health      1     30.90 6064.0 1146.8\n",
      "- famsize     1     33.15 6066.2 1147.0\n",
      "- freetime    1     33.48 6066.6 1147.0\n",
      "- Medu        1     35.81 6068.9 1147.2\n",
      "- age         1     40.78 6073.9 1147.5\n",
      "- famsup      1     54.73 6087.8 1148.4\n",
      "- studytime   1     67.72 6100.8 1149.2\n",
      "- schoolsup   1     70.08 6103.2 1149.4\n",
      "- absences    1     76.20 6109.3 1149.8\n",
      "+ guardian    2     10.92 6022.2 1150.1\n",
      "- romantic    1     87.69 6120.8 1150.5\n",
      "+ reason      3     32.07 6001.0 1150.7\n",
      "- Mjob        4    192.32 6225.4 1151.2\n",
      "- sex         1    101.51 6134.6 1151.4\n",
      "- goout       1    135.22 6168.3 1153.6\n",
      "- failures    1    467.23 6500.3 1174.3\n",
      "\n",
      "Step:  AIC=1144.58\n",
      "G3 ~ school + sex + age + address + famsize + Pstatus + Medu + \n",
      "    Fedu + Mjob + traveltime + studytime + failures + schoolsup + \n",
      "    famsup + paid + activities + nursery + higher + internet + \n",
      "    romantic + famrel + freetime + goout + Dalc + Walc + health + \n",
      "    absences\n",
      "\n",
      "             Df Sum of Sq    RSS    AIC\n",
      "- Fedu        1      1.46 6123.1 1142.7\n",
      "- nursery     1      3.03 6124.7 1142.8\n",
      "- Dalc        1      4.54 6126.2 1142.9\n",
      "- internet    1      5.39 6127.0 1142.9\n",
      "- Pstatus     1      5.51 6127.2 1142.9\n",
      "- Walc        1      6.90 6128.6 1143.0\n",
      "- traveltime  1      7.29 6128.9 1143.0\n",
      "- paid        1      8.61 6130.3 1143.1\n",
      "- activities  1     10.09 6131.7 1143.2\n",
      "- famrel      1     10.20 6131.9 1143.2\n",
      "- school      1     10.84 6132.5 1143.3\n",
      "- address     1     14.53 6136.2 1143.5\n",
      "- higher      1     25.80 6147.5 1144.2\n",
      "- health      1     27.08 6148.7 1144.3\n",
      "- famsize     1     28.98 6150.6 1144.4\n",
      "<none>                    6121.7 1144.6\n",
      "- freetime    1     32.93 6154.6 1144.7\n",
      "- Medu        1     33.24 6154.9 1144.7\n",
      "- age         1     42.20 6163.8 1145.3\n",
      "- famsup      1     53.33 6175.0 1146.0\n",
      "- schoolsup   1     56.53 6178.2 1146.2\n",
      "+ Fjob        4     88.57 6033.1 1146.8\n",
      "- studytime   1     71.20 6192.9 1147.2\n",
      "- absences    1     71.93 6193.6 1147.2\n",
      "- romantic    1     77.77 6199.4 1147.6\n",
      "+ reason      3     44.13 6077.5 1147.7\n",
      "+ guardian    2      6.42 6115.2 1148.2\n",
      "- Mjob        4    184.01 6305.7 1148.3\n",
      "- sex         1    103.74 6225.4 1149.2\n",
      "- goout       1    129.27 6250.9 1150.8\n",
      "- failures    1    463.80 6585.5 1171.4\n",
      "\n",
      "Step:  AIC=1142.67\n",
      "G3 ~ school + sex + age + address + famsize + Pstatus + Medu + \n",
      "    Mjob + traveltime + studytime + failures + schoolsup + famsup + \n",
      "    paid + activities + nursery + higher + internet + romantic + \n",
      "    famrel + freetime + goout + Dalc + Walc + health + absences\n",
      "\n",
      "             Df Sum of Sq    RSS    AIC\n",
      "- nursery     1      2.79 6125.9 1140.8\n",
      "- Dalc        1      4.64 6127.8 1141.0\n",
      "- internet    1      5.68 6128.8 1141.0\n",
      "- Pstatus     1      5.71 6128.8 1141.0\n",
      "- Walc        1      7.25 6130.4 1141.1\n",
      "- traveltime  1      8.12 6131.2 1141.2\n",
      "- paid        1      8.17 6131.3 1141.2\n",
      "- activities  1      9.66 6132.8 1141.3\n",
      "- famrel      1     10.25 6133.4 1141.3\n",
      "- school      1     11.30 6134.4 1141.4\n",
      "- address     1     14.25 6137.4 1141.6\n",
      "- health      1     26.37 6149.5 1142.4\n",
      "- higher      1     26.78 6149.9 1142.4\n",
      "- famsize     1     28.52 6151.6 1142.5\n",
      "<none>                    6123.1 1142.7\n",
      "- freetime    1     32.24 6155.4 1142.8\n",
      "- age         1     42.46 6165.6 1143.4\n",
      "- famsup      1     52.01 6175.1 1144.0\n",
      "- Medu        1     54.73 6177.8 1144.2\n",
      "- schoolsup   1     55.68 6178.8 1144.2\n",
      "+ Fedu        1      1.46 6121.7 1144.6\n",
      "+ Fjob        4     87.07 6036.0 1145.0\n",
      "- studytime   1     69.78 6192.9 1145.2\n",
      "- absences    1     71.00 6194.1 1145.2\n",
      "- romantic    1     77.35 6200.5 1145.6\n",
      "+ reason      3     43.75 6079.4 1145.8\n",
      "+ guardian    2      7.04 6116.1 1146.2\n",
      "- Mjob        4    183.19 6306.3 1146.3\n",
      "- sex         1    103.46 6226.6 1147.3\n",
      "- goout       1    128.64 6251.8 1148.9\n",
      "- failures    1    477.93 6601.0 1170.4\n",
      "\n",
      "Step:  AIC=1140.85\n",
      "G3 ~ school + sex + age + address + famsize + Pstatus + Medu + \n",
      "    Mjob + traveltime + studytime + failures + schoolsup + famsup + \n",
      "    paid + activities + higher + internet + romantic + famrel + \n",
      "    freetime + goout + Dalc + Walc + health + absences\n",
      "\n",
      "             Df Sum of Sq    RSS    AIC\n",
      "- Dalc        1      4.35 6130.3 1139.1\n",
      "- Pstatus     1      5.34 6131.2 1139.2\n",
      "- internet    1      6.13 6132.0 1139.2\n",
      "- paid        1      7.46 6133.4 1139.3\n",
      "- Walc        1      7.89 6133.8 1139.4\n",
      "- traveltime  1      8.39 6134.3 1139.4\n",
      "- activities  1      9.25 6135.2 1139.5\n",
      "- famrel      1     10.42 6136.3 1139.5\n",
      "- school      1     11.87 6137.8 1139.6\n",
      "- address     1     14.25 6140.2 1139.8\n",
      "- health      1     26.42 6152.3 1140.5\n",
      "- famsize     1     26.93 6152.8 1140.6\n",
      "- higher      1     26.95 6152.9 1140.6\n",
      "<none>                    6125.9 1140.8\n",
      "- freetime    1     32.33 6158.2 1140.9\n",
      "- age         1     41.93 6167.8 1141.5\n",
      "- famsup      1     51.77 6177.7 1142.2\n",
      "- Medu        1     52.84 6178.7 1142.2\n",
      "- schoolsup   1     56.94 6182.8 1142.5\n",
      "+ nursery     1      2.79 6123.1 1142.7\n",
      "+ Fedu        1      1.22 6124.7 1142.8\n",
      "+ Fjob        4     86.49 6039.4 1143.2\n",
      "- studytime   1     68.61 6194.5 1143.2\n",
      "- absences    1     70.50 6196.4 1143.4\n",
      "- romantic    1     78.49 6204.4 1143.9\n",
      "+ reason      3     43.37 6082.5 1144.0\n",
      "+ guardian    2      8.33 6117.6 1144.3\n",
      "- Mjob        4    182.29 6308.2 1144.4\n",
      "- sex         1    102.30 6228.2 1145.4\n",
      "- goout       1    131.06 6257.0 1147.2\n",
      "- failures    1    476.14 6602.0 1168.4\n",
      "\n",
      "Step:  AIC=1139.13\n",
      "G3 ~ school + sex + age + address + famsize + Pstatus + Medu + \n",
      "    Mjob + traveltime + studytime + failures + schoolsup + famsup + \n",
      "    paid + activities + higher + internet + romantic + famrel + \n",
      "    freetime + goout + Walc + health + absences\n",
      "\n",
      "             Df Sum of Sq    RSS    AIC\n",
      "- Walc        1      3.96 6134.2 1137.4\n",
      "- Pstatus     1      5.10 6135.4 1137.5\n",
      "- internet    1      5.71 6136.0 1137.5\n",
      "- paid        1      6.85 6137.1 1137.6\n",
      "- activities  1      8.41 6138.7 1137.7\n",
      "- traveltime  1      9.07 6139.3 1137.7\n",
      "- famrel      1     11.08 6141.3 1137.8\n",
      "- school      1     11.08 6141.3 1137.8\n",
      "- address     1     14.48 6144.7 1138.1\n",
      "- famsize     1     26.04 6156.3 1138.8\n",
      "- higher      1     26.30 6156.6 1138.8\n",
      "- health      1     27.17 6157.4 1138.9\n",
      "- freetime    1     29.64 6159.9 1139.0\n",
      "<none>                    6130.3 1139.1\n",
      "- age         1     44.06 6174.3 1140.0\n",
      "- Medu        1     50.32 6180.6 1140.4\n",
      "- famsup      1     52.72 6183.0 1140.5\n",
      "+ Dalc        1      4.35 6125.9 1140.8\n",
      "+ nursery     1      2.50 6127.8 1141.0\n",
      "- schoolsup   1     60.09 6190.3 1141.0\n",
      "+ Fedu        1      1.32 6128.9 1141.0\n",
      "- studytime   1     68.68 6198.9 1141.5\n",
      "- absences    1     70.14 6200.4 1141.6\n",
      "+ Fjob        4     82.56 6047.7 1141.8\n",
      "- romantic    1     78.98 6209.2 1142.2\n",
      "+ reason      3     41.68 6088.6 1142.4\n",
      "+ guardian    2      7.64 6122.6 1142.6\n",
      "- Mjob        4    186.29 6316.5 1143.0\n",
      "- sex         1     98.91 6229.2 1143.5\n",
      "- goout       1    129.36 6259.6 1145.4\n",
      "- failures    1    482.47 6612.7 1167.1\n",
      "\n",
      "Step:  AIC=1137.39\n",
      "G3 ~ school + sex + age + address + famsize + Pstatus + Medu + \n",
      "    Mjob + traveltime + studytime + failures + schoolsup + famsup + \n",
      "    paid + activities + higher + internet + romantic + famrel + \n",
      "    freetime + goout + health + absences\n",
      "\n",
      "             Df Sum of Sq    RSS    AIC\n",
      "- Pstatus     1      4.99 6139.2 1135.7\n",
      "- internet    1      5.87 6140.1 1135.8\n",
      "- traveltime  1      8.38 6142.6 1135.9\n",
      "- paid        1      8.96 6143.2 1136.0\n",
      "- activities  1      9.17 6143.4 1136.0\n",
      "- famrel      1      9.19 6143.4 1136.0\n",
      "- school      1     10.93 6145.1 1136.1\n",
      "- address     1     13.02 6147.2 1136.2\n",
      "- health      1     25.43 6159.6 1137.0\n",
      "- higher      1     26.34 6160.6 1137.1\n",
      "- famsize     1     27.61 6161.8 1137.2\n",
      "- freetime    1     29.76 6164.0 1137.3\n",
      "<none>                    6134.2 1137.4\n",
      "- age         1     43.53 6177.7 1138.2\n",
      "- Medu        1     49.10 6183.3 1138.5\n",
      "- famsup      1     54.95 6189.2 1138.9\n",
      "+ Walc        1      3.96 6130.3 1139.1\n",
      "+ nursery     1      3.18 6131.0 1139.2\n",
      "- schoolsup   1     60.84 6195.0 1139.3\n",
      "+ Fedu        1      1.53 6132.7 1139.3\n",
      "+ Dalc        1      0.41 6133.8 1139.4\n",
      "- studytime   1     65.25 6199.5 1139.6\n",
      "- absences    1     76.31 6210.5 1140.3\n",
      "+ Fjob        4     77.19 6057.0 1140.4\n",
      "- romantic    1     79.98 6214.2 1140.5\n",
      "+ reason      3     42.88 6091.3 1140.6\n",
      "+ guardian    2      7.05 6127.2 1140.9\n",
      "- Mjob        4    187.73 6321.9 1141.3\n",
      "- sex         1    113.68 6247.9 1142.6\n",
      "- goout       1    134.66 6268.9 1144.0\n",
      "- failures    1    479.97 6614.2 1165.1\n",
      "\n",
      "Step:  AIC=1135.71\n",
      "G3 ~ school + sex + age + address + famsize + Medu + Mjob + traveltime + \n",
      "    studytime + failures + schoolsup + famsup + paid + activities + \n",
      "    higher + internet + romantic + famrel + freetime + goout + \n",
      "    health + absences\n",
      "\n",
      "             Df Sum of Sq    RSS    AIC\n",
      "- internet    1      4.84 6144.0 1134.0\n",
      "- paid        1      8.38 6147.6 1134.2\n",
      "- traveltime  1      8.52 6147.7 1134.3\n",
      "- famrel      1      9.08 6148.3 1134.3\n",
      "- school      1     10.50 6149.7 1134.4\n",
      "- activities  1     10.86 6150.1 1134.4\n",
      "- address     1     13.20 6152.4 1134.6\n",
      "- health      1     25.80 6165.0 1135.4\n",
      "- higher      1     27.34 6166.5 1135.5\n",
      "- freetime    1     29.40 6168.6 1135.6\n",
      "<none>                    6139.2 1135.7\n",
      "- famsize     1     32.38 6171.6 1135.8\n",
      "- age         1     44.64 6183.8 1136.6\n",
      "- Medu        1     55.11 6194.3 1137.2\n",
      "- famsup      1     55.65 6194.8 1137.3\n",
      "+ Pstatus     1      4.99 6134.2 1137.4\n",
      "+ Walc        1      3.84 6135.4 1137.5\n",
      "+ nursery     1      2.80 6136.4 1137.5\n",
      "- schoolsup   1     60.02 6199.2 1137.5\n",
      "+ Fedu        1      1.72 6137.5 1137.6\n",
      "+ Dalc        1      0.37 6138.8 1137.7\n",
      "- studytime   1     64.97 6204.2 1137.9\n",
      "+ Fjob        4     78.94 6060.3 1138.6\n",
      "- romantic    1     78.80 6218.0 1138.8\n",
      "- absences    1     81.55 6220.7 1138.9\n",
      "+ reason      3     42.34 6096.9 1139.0\n",
      "+ guardian    2      7.58 6131.6 1139.2\n",
      "- Mjob        4    189.67 6328.9 1139.7\n",
      "- sex         1    113.08 6252.3 1140.9\n",
      "- goout       1    134.78 6274.0 1142.3\n",
      "- failures    1    477.65 6616.9 1163.3\n",
      "\n",
      "Step:  AIC=1134.02\n",
      "G3 ~ school + sex + age + address + famsize + Medu + Mjob + traveltime + \n",
      "    studytime + failures + schoolsup + famsup + paid + activities + \n",
      "    higher + romantic + famrel + freetime + goout + health + \n",
      "    absences\n",
      "\n",
      "             Df Sum of Sq    RSS    AIC\n",
      "- traveltime  1      8.60 6152.6 1132.6\n",
      "- famrel      1      9.73 6153.8 1132.6\n",
      "- paid        1      9.73 6153.8 1132.6\n",
      "- school      1     10.33 6154.4 1132.7\n",
      "- activities  1     10.64 6154.7 1132.7\n",
      "- address     1     16.04 6160.1 1133.0\n",
      "- higher      1     26.28 6170.3 1133.7\n",
      "- health      1     28.78 6172.8 1133.9\n",
      "- freetime    1     29.76 6173.8 1133.9\n",
      "<none>                    6144.0 1134.0\n",
      "- famsize     1     31.64 6175.7 1134.0\n",
      "- age         1     48.12 6192.2 1135.1\n",
      "- Medu        1     54.37 6198.4 1135.5\n",
      "- famsup      1     54.48 6198.5 1135.5\n",
      "+ internet    1      4.84 6139.2 1135.7\n",
      "+ Walc        1      4.00 6140.0 1135.8\n",
      "+ Pstatus     1      3.96 6140.1 1135.8\n",
      "+ nursery     1      3.27 6140.8 1135.8\n",
      "+ Fedu        1      1.96 6142.1 1135.9\n",
      "- schoolsup   1     60.69 6204.7 1135.9\n",
      "+ Dalc        1      0.26 6143.8 1136.0\n",
      "- studytime   1     67.65 6211.7 1136.3\n",
      "- romantic    1     75.57 6219.6 1136.8\n",
      "+ Fjob        4     75.44 6068.6 1137.1\n",
      "+ reason      3     41.61 6102.4 1137.3\n",
      "+ guardian    2      7.42 6136.6 1137.5\n",
      "- absences    1     87.05 6231.1 1137.6\n",
      "- Mjob        4    191.71 6335.7 1138.2\n",
      "- sex         1    116.16 6260.2 1139.4\n",
      "- goout       1    132.36 6276.4 1140.4\n",
      "- failures    1    478.62 6622.7 1161.7\n",
      "\n",
      "Step:  AIC=1132.57\n",
      "G3 ~ school + sex + age + address + famsize + Medu + Mjob + studytime + \n",
      "    failures + schoolsup + famsup + paid + activities + higher + \n",
      "    romantic + famrel + freetime + goout + health + absences\n",
      "\n",
      "             Df Sum of Sq    RSS    AIC\n",
      "- school      1      7.63 6160.3 1131.1\n",
      "- famrel      1      9.55 6162.2 1131.2\n",
      "- paid        1     10.26 6162.9 1131.2\n",
      "- activities  1     10.92 6163.6 1131.3\n",
      "- address     1     24.44 6177.1 1132.1\n",
      "- higher      1     27.24 6179.9 1132.3\n",
      "- health      1     28.50 6181.1 1132.4\n",
      "- famsize     1     29.28 6181.9 1132.5\n",
      "<none>                    6152.6 1132.6\n",
      "- freetime    1     31.70 6184.3 1132.6\n",
      "- age         1     45.60 6198.2 1133.5\n",
      "+ traveltime  1      8.60 6144.0 1134.0\n",
      "- Medu        1     57.11 6209.8 1134.2\n",
      "+ internet    1      4.92 6147.7 1134.3\n",
      "+ Pstatus     1      4.08 6148.6 1134.3\n",
      "- famsup      1     58.82 6211.5 1134.3\n",
      "+ nursery     1      3.47 6149.2 1134.3\n",
      "+ Walc        1      3.30 6149.3 1134.4\n",
      "+ Fedu        1      2.91 6149.7 1134.4\n",
      "- schoolsup   1     60.68 6213.3 1134.5\n",
      "+ Dalc        1      0.54 6152.1 1134.5\n",
      "- studytime   1     71.49 6224.1 1135.1\n",
      "- romantic    1     77.03 6229.7 1135.5\n",
      "+ Fjob        4     75.67 6077.0 1135.7\n",
      "+ reason      3     42.82 6109.8 1135.8\n",
      "- absences    1     87.15 6239.8 1136.1\n",
      "+ guardian    2      6.03 6146.6 1136.2\n",
      "- Mjob        4    196.28 6348.9 1137.0\n",
      "- sex         1    113.20 6265.8 1137.8\n",
      "- goout       1    137.98 6290.6 1139.3\n",
      "- failures    1    482.60 6635.2 1160.4\n",
      "\n",
      "Step:  AIC=1131.06\n",
      "G3 ~ sex + age + address + famsize + Medu + Mjob + studytime + \n",
      "    failures + schoolsup + famsup + paid + activities + higher + \n",
      "    romantic + famrel + freetime + goout + health + absences\n",
      "\n",
      "             Df Sum of Sq    RSS    AIC\n",
      "- famrel      1      8.34 6168.6 1129.6\n",
      "- paid        1     10.91 6171.2 1129.8\n",
      "- activities  1     12.91 6173.2 1129.9\n",
      "- address     1     19.04 6179.3 1130.3\n",
      "- health      1     29.30 6189.6 1130.9\n",
      "- higher      1     29.73 6190.0 1131.0\n",
      "<none>                    6160.3 1131.1\n",
      "- famsize     1     31.27 6191.5 1131.1\n",
      "- freetime    1     33.92 6194.2 1131.2\n",
      "- age         1     38.19 6198.5 1131.5\n",
      "+ school      1      7.63 6152.6 1132.6\n",
      "- Medu        1     56.45 6216.7 1132.7\n",
      "+ traveltime  1      5.90 6154.4 1132.7\n",
      "+ internet    1      4.76 6155.5 1132.8\n",
      "+ nursery     1      3.96 6156.3 1132.8\n",
      "+ Pstatus     1      3.74 6156.5 1132.8\n",
      "+ Walc        1      3.29 6157.0 1132.8\n",
      "+ Fedu        1      3.20 6157.1 1132.9\n",
      "- schoolsup   1     61.92 6222.2 1133.0\n",
      "+ Dalc        1      0.34 6159.9 1133.0\n",
      "- famsup      1     64.48 6224.7 1133.2\n",
      "- studytime   1     66.98 6227.3 1133.3\n",
      "- romantic    1     75.14 6235.4 1133.8\n",
      "+ Fjob        4     75.74 6084.5 1134.2\n",
      "- absences    1     80.70 6241.0 1134.2\n",
      "+ reason      3     42.76 6117.5 1134.3\n",
      "+ guardian    2      5.49 6154.8 1134.7\n",
      "- Mjob        4    194.50 6354.8 1135.3\n",
      "- sex         1    110.20 6270.5 1136.1\n",
      "- goout       1    140.71 6301.0 1138.0\n",
      "- failures    1    489.10 6649.4 1159.2\n",
      "\n",
      "Step:  AIC=1129.6\n",
      "G3 ~ sex + age + address + famsize + Medu + Mjob + studytime + \n",
      "    failures + schoolsup + famsup + paid + activities + higher + \n",
      "    romantic + freetime + goout + health + absences\n",
      "\n",
      "             Df Sum of Sq    RSS    AIC\n",
      "- paid        1     11.18 6179.8 1128.3\n",
      "- activities  1     12.40 6181.0 1128.4\n",
      "- address     1     19.73 6188.3 1128.9\n",
      "- health      1     26.53 6195.1 1129.3\n",
      "- higher      1     30.29 6198.9 1129.5\n",
      "- famsize     1     30.63 6199.2 1129.5\n",
      "<none>                    6168.6 1129.6\n",
      "- age         1     35.33 6203.9 1129.8\n",
      "- freetime    1     39.30 6207.9 1130.1\n",
      "+ famrel      1      8.34 6160.3 1131.1\n",
      "+ school      1      6.42 6162.2 1131.2\n",
      "+ traveltime  1      5.94 6162.7 1131.2\n",
      "+ internet    1      5.37 6163.2 1131.2\n",
      "- Medu        1     57.64 6226.3 1131.3\n",
      "+ nursery     1      3.90 6164.7 1131.3\n",
      "+ Pstatus     1      3.62 6165.0 1131.4\n",
      "+ Fedu        1      3.17 6165.4 1131.4\n",
      "- schoolsup   1     61.04 6229.6 1131.5\n",
      "+ Walc        1      1.68 6166.9 1131.5\n",
      "+ Dalc        1      0.94 6167.7 1131.5\n",
      "- famsup      1     65.49 6234.1 1131.8\n",
      "- studytime   1     69.84 6238.5 1132.0\n",
      "- romantic    1     78.82 6247.4 1132.6\n",
      "- absences    1     78.99 6247.6 1132.6\n",
      "+ reason      3     42.65 6126.0 1132.9\n",
      "+ Fjob        4     71.95 6096.7 1133.0\n",
      "+ guardian    2      5.99 6162.6 1133.2\n",
      "- Mjob        4    195.42 6364.0 1133.9\n",
      "- sex         1    112.19 6280.8 1134.7\n",
      "- goout       1    139.27 6307.9 1136.4\n",
      "- failures    1    499.43 6668.0 1158.3\n",
      "\n",
      "Step:  AIC=1128.31\n",
      "G3 ~ sex + age + address + famsize + Medu + Mjob + studytime + \n",
      "    failures + schoolsup + famsup + activities + higher + romantic + \n",
      "    freetime + goout + health + absences\n",
      "\n",
      "             Df Sum of Sq    RSS    AIC\n",
      "- activities  1     13.71 6193.5 1127.2\n",
      "- address     1     20.29 6200.1 1127.6\n",
      "- health      1     29.17 6209.0 1128.2\n",
      "- famsize     1     30.70 6210.5 1128.3\n",
      "<none>                    6179.8 1128.3\n",
      "- age         1     33.95 6213.7 1128.5\n",
      "- higher      1     34.79 6214.6 1128.5\n",
      "- freetime    1     37.41 6217.2 1128.7\n",
      "+ paid        1     11.18 6168.6 1129.6\n",
      "+ famrel      1      8.61 6171.2 1129.8\n",
      "+ school      1      7.00 6172.8 1129.9\n",
      "+ internet    1      6.91 6172.9 1129.9\n",
      "- famsup      1     56.09 6235.9 1129.9\n",
      "+ traveltime  1      6.30 6173.5 1129.9\n",
      "- Medu        1     56.55 6236.3 1129.9\n",
      "+ Walc        1      3.33 6176.5 1130.1\n",
      "+ nursery     1      3.25 6176.5 1130.1\n",
      "+ Pstatus     1      2.93 6176.9 1130.1\n",
      "+ Fedu        1      2.56 6177.2 1130.2\n",
      "+ Dalc        1      0.24 6179.6 1130.3\n",
      "- schoolsup   1     63.14 6242.9 1130.3\n",
      "- studytime   1     74.69 6254.5 1131.1\n",
      "- romantic    1     77.77 6257.6 1131.2\n",
      "+ reason      3     47.09 6132.7 1131.3\n",
      "- absences    1     79.34 6259.1 1131.3\n",
      "+ guardian    2      5.90 6173.9 1131.9\n",
      "+ Fjob        4     65.14 6114.7 1132.1\n",
      "- Mjob        4    195.58 6375.4 1132.6\n",
      "- sex         1    109.28 6289.1 1133.2\n",
      "- goout       1    135.69 6315.5 1134.9\n",
      "- failures    1    525.05 6704.8 1158.5\n",
      "\n",
      "Step:  AIC=1127.19\n",
      "G3 ~ sex + age + address + famsize + Medu + Mjob + studytime + \n",
      "    failures + schoolsup + famsup + higher + romantic + freetime + \n",
      "    goout + health + absences\n",
      "\n",
      "             Df Sum of Sq    RSS    AIC\n",
      "- address     1     23.19 6216.7 1126.7\n",
      "- health      1     29.24 6222.7 1127.0\n",
      "- age         1     30.73 6224.2 1127.1\n",
      "- famsize     1     31.15 6224.7 1127.2\n",
      "<none>                    6193.5 1127.2\n",
      "- higher      1     31.85 6225.4 1127.2\n",
      "- freetime    1     34.49 6228.0 1127.4\n",
      "+ activities  1     13.71 6179.8 1128.3\n",
      "+ paid        1     12.49 6181.0 1128.4\n",
      "- famsup      1     53.66 6247.2 1128.6\n",
      "+ school      1      9.06 6184.4 1128.6\n",
      "+ famrel      1      8.09 6185.4 1128.7\n",
      "- Medu        1     55.81 6249.3 1128.7\n",
      "+ internet    1      6.66 6186.8 1128.8\n",
      "+ traveltime  1      6.27 6187.2 1128.8\n",
      "+ Pstatus     1      4.40 6189.1 1128.9\n",
      "+ Walc        1      4.34 6189.2 1128.9\n",
      "+ nursery     1      2.79 6190.7 1129.0\n",
      "+ Fedu        1      1.96 6191.5 1129.1\n",
      "+ Dalc        1      0.01 6193.5 1129.2\n",
      "- schoolsup   1     66.62 6260.1 1129.4\n",
      "- studytime   1     68.42 6261.9 1129.5\n",
      "- absences    1     78.41 6271.9 1130.2\n",
      "- romantic    1     82.09 6275.6 1130.4\n",
      "+ reason      3     43.11 6150.4 1130.4\n",
      "+ guardian    2      5.76 6187.7 1130.8\n",
      "+ Fjob        4     68.02 6125.5 1130.8\n",
      "- Mjob        4    193.71 6387.2 1131.3\n",
      "- sex         1    102.28 6295.8 1131.7\n",
      "- goout       1    139.88 6333.4 1134.0\n",
      "- failures    1    521.42 6714.9 1157.1\n",
      "\n",
      "Step:  AIC=1126.66\n",
      "G3 ~ sex + age + famsize + Medu + Mjob + studytime + failures + \n",
      "    schoolsup + famsup + higher + romantic + freetime + goout + \n",
      "    health + absences\n",
      "\n",
      "             Df Sum of Sq    RSS    AIC\n",
      "- higher      1     30.51 6247.2 1126.6\n",
      "<none>                    6216.7 1126.7\n",
      "- health      1     32.15 6248.8 1126.7\n",
      "- famsize     1     35.29 6252.0 1126.9\n",
      "- freetime    1     35.60 6252.3 1126.9\n",
      "- age         1     38.25 6254.9 1127.1\n",
      "+ address     1     23.19 6193.5 1127.2\n",
      "+ activities  1     16.61 6200.1 1127.6\n",
      "+ traveltime  1     14.98 6201.7 1127.7\n",
      "+ paid        1     13.26 6203.4 1127.8\n",
      "+ internet    1     11.18 6205.5 1128.0\n",
      "+ famrel      1      8.79 6207.9 1128.1\n",
      "- famsup      1     54.57 6271.3 1128.1\n",
      "+ Pstatus     1      4.68 6212.0 1128.4\n",
      "- Medu        1     58.58 6275.3 1128.4\n",
      "+ school      1      2.73 6214.0 1128.5\n",
      "+ nursery     1      2.53 6214.2 1128.5\n",
      "+ Walc        1      2.14 6214.6 1128.5\n",
      "+ Fedu        1      1.75 6214.9 1128.5\n",
      "+ Dalc        1      0.31 6216.4 1128.6\n",
      "- studytime   1     65.49 6282.2 1128.8\n",
      "- schoolsup   1     66.73 6283.4 1128.9\n",
      "- absences    1     76.04 6292.7 1129.5\n",
      "- romantic    1     79.77 6296.5 1129.7\n",
      "+ guardian    2      9.18 6207.5 1130.1\n",
      "+ Fjob        4     69.25 6147.4 1130.2\n",
      "+ reason      3     37.30 6179.4 1130.3\n",
      "- sex         1     95.98 6312.7 1130.7\n",
      "- Mjob        4    206.04 6422.7 1131.5\n",
      "- goout       1    132.37 6349.1 1133.0\n",
      "- failures    1    532.78 6749.5 1157.1\n",
      "\n",
      "Step:  AIC=1126.6\n",
      "G3 ~ sex + age + famsize + Medu + Mjob + studytime + failures + \n",
      "    schoolsup + famsup + romantic + freetime + goout + health + \n",
      "    absences\n",
      "\n",
      "             Df Sum of Sq    RSS    AIC\n",
      "- health      1     31.19 6278.4 1126.6\n",
      "<none>                    6247.2 1126.6\n",
      "+ higher      1     30.51 6216.7 1126.7\n",
      "- freetime    1     34.90 6282.1 1126.8\n",
      "- famsize     1     36.85 6284.1 1126.9\n",
      "+ address     1     21.84 6225.4 1127.2\n",
      "+ paid        1     17.59 6229.6 1127.5\n",
      "- age         1     47.12 6294.3 1127.6\n",
      "+ traveltime  1     15.45 6231.8 1127.6\n",
      "+ activities  1     13.34 6233.9 1127.8\n",
      "- famsup      1     52.52 6299.7 1127.9\n",
      "+ internet    1      9.68 6237.5 1128.0\n",
      "+ famrel      1      9.46 6237.7 1128.0\n",
      "+ Pstatus     1      5.41 6241.8 1128.2\n",
      "+ school      1      4.31 6242.9 1128.3\n",
      "+ Fedu        1      2.93 6244.3 1128.4\n",
      "+ nursery     1      2.68 6244.5 1128.4\n",
      "+ Walc        1      2.33 6244.9 1128.5\n",
      "- Medu        1     62.83 6310.0 1128.5\n",
      "+ Dalc        1      0.13 6247.1 1128.6\n",
      "- schoolsup   1     66.79 6314.0 1128.8\n",
      "- absences    1     73.57 6320.8 1129.2\n",
      "- studytime   1     74.79 6322.0 1129.3\n",
      "+ guardian    2     14.07 6233.1 1129.7\n",
      "- sex         1     83.06 6330.3 1129.8\n",
      "- romantic    1     89.44 6336.6 1130.2\n",
      "+ Fjob        4     67.63 6179.6 1130.3\n",
      "+ reason      3     33.51 6213.7 1130.5\n",
      "- Mjob        4    209.79 6457.0 1131.6\n",
      "- goout       1    130.43 6377.6 1132.8\n",
      "- failures    1    616.91 6864.1 1161.8\n",
      "\n",
      "Step:  AIC=1126.56\n",
      "G3 ~ sex + age + famsize + Medu + Mjob + studytime + failures + \n",
      "    schoolsup + famsup + romantic + freetime + goout + absences\n",
      "\n",
      "             Df Sum of Sq    RSS    AIC\n",
      "<none>                    6278.4 1126.6\n",
      "+ health      1     31.19 6247.2 1126.6\n",
      "- freetime    1     32.73 6311.1 1126.6\n",
      "+ higher      1     29.55 6248.8 1126.7\n",
      "+ address     1     24.65 6253.7 1127.0\n",
      "- famsize     1     40.88 6319.3 1127.1\n",
      "- age         1     41.69 6320.1 1127.2\n",
      "+ paid        1     20.93 6257.5 1127.2\n",
      "+ traveltime  1     15.67 6262.7 1127.6\n",
      "+ internet    1     14.25 6264.1 1127.7\n",
      "+ activities  1     13.63 6264.8 1127.7\n",
      "- famsup      1     56.48 6334.9 1128.1\n",
      "+ famrel      1      6.33 6272.1 1128.2\n",
      "+ Pstatus     1      5.43 6273.0 1128.2\n",
      "+ school      1      4.78 6273.6 1128.3\n",
      "+ nursery     1      2.58 6275.8 1128.4\n",
      "+ Fedu        1      1.71 6276.7 1128.5\n",
      "+ Walc        1      1.26 6277.1 1128.5\n",
      "+ Dalc        1      0.46 6277.9 1128.5\n",
      "- schoolsup   1     64.02 6342.4 1128.6\n",
      "- sex         1     72.33 6350.7 1129.1\n",
      "- absences    1     73.66 6352.1 1129.2\n",
      "- Medu        1     75.35 6353.7 1129.3\n",
      "- studytime   1     76.94 6355.3 1129.4\n",
      "+ guardian    2     15.84 6262.6 1129.6\n",
      "+ reason      3     41.84 6236.6 1129.9\n",
      "- romantic    1     96.59 6375.0 1130.6\n",
      "+ Fjob        4     62.20 6216.2 1130.6\n",
      "- Mjob        4    196.96 6475.3 1130.8\n",
      "- goout       1    127.62 6406.0 1132.5\n",
      "- failures    1    628.39 6906.8 1162.2\n"
     ]
    },
    {
     "data": {
      "text/html": [
       "<table>\n",
       "<thead><tr><th scope=col>Step</th><th scope=col>Df</th><th scope=col>Deviance</th><th scope=col>Resid. Df</th><th scope=col>Resid. Dev</th><th scope=col>AIC</th></tr></thead>\n",
       "<tbody>\n",
       "\t<tr><td>            </td><td>NA          </td><td>       NA   </td><td>355         </td><td>5990.833    </td><td>1154.044    </td></tr>\n",
       "\t<tr><td>- reason    </td><td> 3          </td><td>31.328693   </td><td>358         </td><td>6022.161    </td><td>1150.105    </td></tr>\n",
       "\t<tr><td>- guardian  </td><td> 2          </td><td>10.918410   </td><td>360         </td><td>6033.080    </td><td>1146.820    </td></tr>\n",
       "\t<tr><td>- Fjob      </td><td> 4          </td><td>88.573827   </td><td>364         </td><td>6121.654    </td><td>1144.577    </td></tr>\n",
       "\t<tr><td>- Fedu      </td><td> 1          </td><td> 1.460092   </td><td>365         </td><td>6123.114    </td><td>1142.671    </td></tr>\n",
       "\t<tr><td>- nursery   </td><td> 1          </td><td> 2.789976   </td><td>366         </td><td>6125.904    </td><td>1140.851    </td></tr>\n",
       "\t<tr><td>- Dalc      </td><td> 1          </td><td> 4.347820   </td><td>367         </td><td>6130.252    </td><td>1139.132    </td></tr>\n",
       "\t<tr><td>- Walc      </td><td> 1          </td><td> 3.955184   </td><td>368         </td><td>6134.207    </td><td>1137.386    </td></tr>\n",
       "\t<tr><td>- Pstatus   </td><td> 1          </td><td> 4.990484   </td><td>369         </td><td>6139.197    </td><td>1135.708    </td></tr>\n",
       "\t<tr><td>- internet  </td><td> 1          </td><td> 4.842193   </td><td>370         </td><td>6144.039    </td><td>1134.019    </td></tr>\n",
       "\t<tr><td>- traveltime</td><td> 1          </td><td> 8.601817   </td><td>371         </td><td>6152.641    </td><td>1132.572    </td></tr>\n",
       "\t<tr><td>- school    </td><td> 1          </td><td> 7.628992   </td><td>372         </td><td>6160.270    </td><td>1131.061    </td></tr>\n",
       "\t<tr><td>- famrel    </td><td> 1          </td><td> 8.341278   </td><td>373         </td><td>6168.611    </td><td>1129.596    </td></tr>\n",
       "\t<tr><td>- paid      </td><td> 1          </td><td>11.183352   </td><td>374         </td><td>6179.795    </td><td>1128.311    </td></tr>\n",
       "\t<tr><td>- activities</td><td> 1          </td><td>13.707231   </td><td>375         </td><td>6193.502    </td><td>1127.186    </td></tr>\n",
       "\t<tr><td>- address   </td><td> 1          </td><td>23.189741   </td><td>376         </td><td>6216.692    </td><td>1126.662    </td></tr>\n",
       "\t<tr><td>- higher    </td><td> 1          </td><td>30.509338   </td><td>377         </td><td>6247.201    </td><td>1126.596    </td></tr>\n",
       "\t<tr><td>- health    </td><td> 1          </td><td>31.191651   </td><td>378         </td><td>6278.393    </td><td>1126.563    </td></tr>\n",
       "</tbody>\n",
       "</table>\n"
      ],
      "text/latex": [
       "\\begin{tabular}{r|llllll}\n",
       " Step & Df & Deviance & Resid. Df & Resid. Dev & AIC\\\\\n",
       "\\hline\n",
       "\t              & NA           &        NA    & 355          & 5990.833     & 1154.044    \\\\\n",
       "\t - reason     &  3           & 31.328693    & 358          & 6022.161     & 1150.105    \\\\\n",
       "\t - guardian   &  2           & 10.918410    & 360          & 6033.080     & 1146.820    \\\\\n",
       "\t - Fjob       &  4           & 88.573827    & 364          & 6121.654     & 1144.577    \\\\\n",
       "\t - Fedu       &  1           &  1.460092    & 365          & 6123.114     & 1142.671    \\\\\n",
       "\t - nursery    &  1           &  2.789976    & 366          & 6125.904     & 1140.851    \\\\\n",
       "\t - Dalc       &  1           &  4.347820    & 367          & 6130.252     & 1139.132    \\\\\n",
       "\t - Walc       &  1           &  3.955184    & 368          & 6134.207     & 1137.386    \\\\\n",
       "\t - Pstatus    &  1           &  4.990484    & 369          & 6139.197     & 1135.708    \\\\\n",
       "\t - internet   &  1           &  4.842193    & 370          & 6144.039     & 1134.019    \\\\\n",
       "\t - traveltime &  1           &  8.601817    & 371          & 6152.641     & 1132.572    \\\\\n",
       "\t - school     &  1           &  7.628992    & 372          & 6160.270     & 1131.061    \\\\\n",
       "\t - famrel     &  1           &  8.341278    & 373          & 6168.611     & 1129.596    \\\\\n",
       "\t - paid       &  1           & 11.183352    & 374          & 6179.795     & 1128.311    \\\\\n",
       "\t - activities &  1           & 13.707231    & 375          & 6193.502     & 1127.186    \\\\\n",
       "\t - address    &  1           & 23.189741    & 376          & 6216.692     & 1126.662    \\\\\n",
       "\t - higher     &  1           & 30.509338    & 377          & 6247.201     & 1126.596    \\\\\n",
       "\t - health     &  1           & 31.191651    & 378          & 6278.393     & 1126.563    \\\\\n",
       "\\end{tabular}\n"
      ],
      "text/markdown": [
       "\n",
       "Step | Df | Deviance | Resid. Df | Resid. Dev | AIC | \n",
       "|---|---|---|---|---|---|---|---|---|---|---|---|---|---|---|---|---|---|\n",
       "|              | NA           |        NA    | 355          | 5990.833     | 1154.044     | \n",
       "| - reason     |  3           | 31.328693    | 358          | 6022.161     | 1150.105     | \n",
       "| - guardian   |  2           | 10.918410    | 360          | 6033.080     | 1146.820     | \n",
       "| - Fjob       |  4           | 88.573827    | 364          | 6121.654     | 1144.577     | \n",
       "| - Fedu       |  1           |  1.460092    | 365          | 6123.114     | 1142.671     | \n",
       "| - nursery    |  1           |  2.789976    | 366          | 6125.904     | 1140.851     | \n",
       "| - Dalc       |  1           |  4.347820    | 367          | 6130.252     | 1139.132     | \n",
       "| - Walc       |  1           |  3.955184    | 368          | 6134.207     | 1137.386     | \n",
       "| - Pstatus    |  1           |  4.990484    | 369          | 6139.197     | 1135.708     | \n",
       "| - internet   |  1           |  4.842193    | 370          | 6144.039     | 1134.019     | \n",
       "| - traveltime |  1           |  8.601817    | 371          | 6152.641     | 1132.572     | \n",
       "| - school     |  1           |  7.628992    | 372          | 6160.270     | 1131.061     | \n",
       "| - famrel     |  1           |  8.341278    | 373          | 6168.611     | 1129.596     | \n",
       "| - paid       |  1           | 11.183352    | 374          | 6179.795     | 1128.311     | \n",
       "| - activities |  1           | 13.707231    | 375          | 6193.502     | 1127.186     | \n",
       "| - address    |  1           | 23.189741    | 376          | 6216.692     | 1126.662     | \n",
       "| - higher     |  1           | 30.509338    | 377          | 6247.201     | 1126.596     | \n",
       "| - health     |  1           | 31.191651    | 378          | 6278.393     | 1126.563     | \n",
       "\n",
       "\n"
      ],
      "text/plain": [
       "   Step         Df Deviance  Resid. Df Resid. Dev AIC     \n",
       "1               NA        NA 355       5990.833   1154.044\n",
       "2  - reason      3 31.328693 358       6022.161   1150.105\n",
       "3  - guardian    2 10.918410 360       6033.080   1146.820\n",
       "4  - Fjob        4 88.573827 364       6121.654   1144.577\n",
       "5  - Fedu        1  1.460092 365       6123.114   1142.671\n",
       "6  - nursery     1  2.789976 366       6125.904   1140.851\n",
       "7  - Dalc        1  4.347820 367       6130.252   1139.132\n",
       "8  - Walc        1  3.955184 368       6134.207   1137.386\n",
       "9  - Pstatus     1  4.990484 369       6139.197   1135.708\n",
       "10 - internet    1  4.842193 370       6144.039   1134.019\n",
       "11 - traveltime  1  8.601817 371       6152.641   1132.572\n",
       "12 - school      1  7.628992 372       6160.270   1131.061\n",
       "13 - famrel      1  8.341278 373       6168.611   1129.596\n",
       "14 - paid        1 11.183352 374       6179.795   1128.311\n",
       "15 - activities  1 13.707231 375       6193.502   1127.186\n",
       "16 - address     1 23.189741 376       6216.692   1126.662\n",
       "17 - higher      1 30.509338 377       6247.201   1126.596\n",
       "18 - health      1 31.191651 378       6278.393   1126.563"
      ]
     },
     "metadata": {},
     "output_type": "display_data"
    }
   ],
   "source": [
    "fit = lm(G3~.,d1)\n",
    "step = stepAIC(fit, direction=\"both\")\n",
    "step$anova # display results"
   ]
  },
  {
   "cell_type": "markdown",
   "metadata": {},
   "source": [
    "This above stepwise process gives us the final model with which we will proceed for the next part of our analysis."
   ]
  },
  {
   "cell_type": "code",
   "execution_count": 34,
   "metadata": {
    "collapsed": false
   },
   "outputs": [
    {
     "data": {
      "text/plain": [
       "\n",
       "Call:\n",
       "lm(formula = G3 ~ sex + age + famsize + Medu + Mjob + studytime + \n",
       "    failures + schoolsup + famsup + romantic + freetime + goout + \n",
       "    absences + Dalc + Walc, data = d1)\n",
       "\n",
       "Residuals:\n",
       "     Min       1Q   Median       3Q      Max \n",
       "-13.5239  -1.7739   0.3229   2.8448   8.8652 \n",
       "\n",
       "Coefficients:\n",
       "             Estimate Std. Error t value Pr(>|t|)    \n",
       "(Intercept)  13.48855    3.27643   4.117 4.72e-05 ***\n",
       "sexM          0.95057    0.47578   1.998  0.04645 *  \n",
       "age          -0.28047    0.18201  -1.541  0.12416    \n",
       "famsizeLE3    0.72991    0.46670   1.564  0.11866    \n",
       "Medu          0.56759    0.26174   2.168  0.03075 *  \n",
       "Mjobhealth    1.43387    1.01880   1.407  0.16013    \n",
       "Mjobother    -0.16623    0.66523  -0.250  0.80281    \n",
       "Mjobservices  0.98556    0.73737   1.337  0.18217    \n",
       "Mjobteacher  -0.84729    0.96700  -0.876  0.38148    \n",
       "studytime     0.58141    0.26917   2.160  0.03141 *  \n",
       "failures     -1.85786    0.30368  -6.118 2.38e-09 ***\n",
       "schoolsupyes -1.25105    0.65463  -1.911  0.05675 .  \n",
       "famsupyes    -0.81115    0.44715  -1.814  0.07047 .  \n",
       "romanticyes  -1.08732    0.45420  -2.394  0.01716 *  \n",
       "freetime      0.32686    0.22557   1.449  0.14816    \n",
       "goout        -0.57358    0.21571  -2.659  0.00817 ** \n",
       "absences      0.05580    0.02737   2.039  0.04216 *  \n",
       "Dalc         -0.12652    0.31553  -0.401  0.68868    \n",
       "Walc          0.10709    0.23442   0.457  0.64805    \n",
       "---\n",
       "Signif. codes:  0 '***' 0.001 '**' 0.01 '*' 0.05 '.' 0.1 ' ' 1\n",
       "\n",
       "Residual standard error: 4.085 on 376 degrees of freedom\n",
       "Multiple R-squared:  0.2413,\tAdjusted R-squared:  0.205 \n",
       "F-statistic: 6.643 on 18 and 376 DF,  p-value: 1.757e-14\n"
      ]
     },
     "metadata": {},
     "output_type": "display_data"
    }
   ],
   "source": [
    "mod = lm(G3~sex + age + famsize + Medu + Mjob + studytime + failures + \n",
    "schoolsup + famsup + romantic + freetime + goout + absences + Dalc + Walc, data=d1)\n",
    "summary(mod)"
   ]
  },
  {
   "cell_type": "markdown",
   "metadata": {},
   "source": [
    "This shows our final regression model with coefficients that were deemed significant enough to keep by our stepwise process."
   ]
  },
  {
   "cell_type": "code",
   "execution_count": 35,
   "metadata": {
    "collapsed": false,
    "scrolled": true
   },
   "outputs": [
    {
     "data": {
      "text/html": [
       "<table>\n",
       "<thead><tr><th scope=col>x</th><th scope=col>freq</th></tr></thead>\n",
       "<tbody>\n",
       "\t<tr><td> 0</td><td>38</td></tr>\n",
       "\t<tr><td> 4</td><td> 1</td></tr>\n",
       "\t<tr><td> 5</td><td> 7</td></tr>\n",
       "\t<tr><td> 6</td><td>15</td></tr>\n",
       "\t<tr><td> 7</td><td> 9</td></tr>\n",
       "\t<tr><td> 8</td><td>32</td></tr>\n",
       "\t<tr><td> 9</td><td>28</td></tr>\n",
       "\t<tr><td>10</td><td>56</td></tr>\n",
       "\t<tr><td>11</td><td>47</td></tr>\n",
       "\t<tr><td>12</td><td>31</td></tr>\n",
       "\t<tr><td>13</td><td>31</td></tr>\n",
       "\t<tr><td>14</td><td>27</td></tr>\n",
       "\t<tr><td>15</td><td>33</td></tr>\n",
       "\t<tr><td>16</td><td>16</td></tr>\n",
       "\t<tr><td>17</td><td> 6</td></tr>\n",
       "\t<tr><td>18</td><td>12</td></tr>\n",
       "\t<tr><td>19</td><td> 5</td></tr>\n",
       "\t<tr><td>20</td><td> 1</td></tr>\n",
       "</tbody>\n",
       "</table>\n"
      ],
      "text/latex": [
       "\\begin{tabular}{r|ll}\n",
       " x & freq\\\\\n",
       "\\hline\n",
       "\t  0 & 38\\\\\n",
       "\t  4 &  1\\\\\n",
       "\t  5 &  7\\\\\n",
       "\t  6 & 15\\\\\n",
       "\t  7 &  9\\\\\n",
       "\t  8 & 32\\\\\n",
       "\t  9 & 28\\\\\n",
       "\t 10 & 56\\\\\n",
       "\t 11 & 47\\\\\n",
       "\t 12 & 31\\\\\n",
       "\t 13 & 31\\\\\n",
       "\t 14 & 27\\\\\n",
       "\t 15 & 33\\\\\n",
       "\t 16 & 16\\\\\n",
       "\t 17 &  6\\\\\n",
       "\t 18 & 12\\\\\n",
       "\t 19 &  5\\\\\n",
       "\t 20 &  1\\\\\n",
       "\\end{tabular}\n"
      ],
      "text/markdown": [
       "\n",
       "x | freq | \n",
       "|---|---|---|---|---|---|---|---|---|---|---|---|---|---|---|---|---|---|\n",
       "|  0 | 38 | \n",
       "|  4 |  1 | \n",
       "|  5 |  7 | \n",
       "|  6 | 15 | \n",
       "|  7 |  9 | \n",
       "|  8 | 32 | \n",
       "|  9 | 28 | \n",
       "| 10 | 56 | \n",
       "| 11 | 47 | \n",
       "| 12 | 31 | \n",
       "| 13 | 31 | \n",
       "| 14 | 27 | \n",
       "| 15 | 33 | \n",
       "| 16 | 16 | \n",
       "| 17 |  6 | \n",
       "| 18 | 12 | \n",
       "| 19 |  5 | \n",
       "| 20 |  1 | \n",
       "\n",
       "\n"
      ],
      "text/plain": [
       "   x  freq\n",
       "1   0 38  \n",
       "2   4  1  \n",
       "3   5  7  \n",
       "4   6 15  \n",
       "5   7  9  \n",
       "6   8 32  \n",
       "7   9 28  \n",
       "8  10 56  \n",
       "9  11 47  \n",
       "10 12 31  \n",
       "11 13 31  \n",
       "12 14 27  \n",
       "13 15 33  \n",
       "14 16 16  \n",
       "15 17  6  \n",
       "16 18 12  \n",
       "17 19  5  \n",
       "18 20  1  "
      ]
     },
     "metadata": {},
     "output_type": "display_data"
    }
   ],
   "source": [
    "#subset the data using the variables above, d2 is our final dataset\n",
    "d2 = d1[,c(2,5,7,14,15,16,17,23,25,26,27,28,30,31)]\n",
    "#this shows frequency of grades, missing 1-3 for some reason\n",
    "grade_count = count(d2$G3) #shows tally of grades\n",
    "grade_count"
   ]
  },
  {
   "cell_type": "code",
   "execution_count": 36,
   "metadata": {
    "collapsed": false
   },
   "outputs": [
    {
     "data": {},
     "metadata": {},
     "output_type": "display_data"
    },
    {
     "data": {
      "image/png": "[encoded data removed]",
      "text/plain": [
       "plot without title"
      ]
     },
     "metadata": {},
     "output_type": "display_data"
    }
   ],
   "source": [
    "grade_frequencies = ggplot(d2, aes(G3)) + geom_bar(color =\"black\",  fill = \"green\", alpha = 0.7) +\n",
    "  labs(title = \"Histogram of Grades\") + ylim(c(0, 60)) + labs(x = \"Final Grades\", y = \"Count\")\n",
    "grade_frequencies"
   ]
  },
  {
   "cell_type": "markdown",
   "metadata": {},
   "source": [
    "Above are a numerical tally of grades and a histogram to get an idea of how student grades were distributed across the sample. We see a cluster at 0 which seems like an issue on the sampling side of this experiment as there are no entries of grades 1, 2, or 3."
   ]
  },
  {
   "cell_type": "code",
   "execution_count": 37,
   "metadata": {
    "collapsed": true
   },
   "outputs": [],
   "source": [
    "d2$schoolsup = revalue(d2$schoolsup, c(yes = \"1\", no = \"0\"))\n",
    "d2$famsup = revalue(d2$famsup, c(yes = \"1\", no = \"0\"))\n",
    "d2$romantic = revalue(d2$romantic, c(yes = \"1\", no = \"0\"))\n",
    "d2$famsize = revalue(d2$famsize, c(LE3 = \"0\", GT3 = \"1\"))\n",
    "d2$sex = revalue(d2$sex, c(M = \"0\", F = \"1\"))\n",
    "#convert to correct type for analysis\n",
    "d2$schoolsup = as.numeric(as.character(d2$schoolsup))\n",
    "d2$famsup = as.numeric(as.character(d2$famsup))\n",
    "d2$romantic = as.numeric(as.character(d2$romantic))\n",
    "d2$famsize=as.numeric(as.character(d2$famsize))\n",
    "d2$sex = as.numeric(as.character(d2$sex))"
   ]
  },
  {
   "cell_type": "code",
   "execution_count": 38,
   "metadata": {
    "collapsed": false
   },
   "outputs": [
    {
     "data": {
      "image/png": "[encoded data removed]",
      "text/plain": [
       "plot without title"
      ]
     },
     "metadata": {},
     "output_type": "display_data"
    }
   ],
   "source": [
    "corrgram(d2,lower.panel = panel.shade, upper.panel = panel.pie, text.panel = panel.txt, main = \"Correlogram\")"
   ]
  },
  {
   "cell_type": "markdown",
   "metadata": {},
   "source": [
    "We created a correlogram between all the variables that we had determined to possibly be significant as well as a few variables who's relationships we were interested in due to social stigma such as the relationship between alcohol consumption and grades."
   ]
  },
  {
   "cell_type": "markdown",
   "metadata": {},
   "source": [
    "## Below we examine the relationship in the form of probablility distribution functions between a number of variables."
   ]
  },
  {
   "cell_type": "code",
   "execution_count": 39,
   "metadata": {
    "collapsed": false
   },
   "outputs": [
    {
     "data": {},
     "metadata": {},
     "output_type": "display_data"
    },
    {
     "data": {
      "image/png": "[encoded data removed]",
      "text/plain": [
       "plot without title"
      ]
     },
     "metadata": {},
     "output_type": "display_data"
    }
   ],
   "source": [
    "walc_g3 <- ggplot(d2, aes(G3, colour=factor(Walc))) + geom_density(adjust=2, alpha = 0.5, size = 1.5) +\n",
    "  ggtitle(\"PDF of Final Grade and Weekend Alcohol\") + labs(x = \"Final Grade\")\n",
    "walc_g3"
   ]
  },
  {
   "cell_type": "markdown",
   "metadata": {},
   "source": [
    "Here we see something interesting that would not have necessarily been expected going in to this analysis and that is that it appears that all the reported levels of alcohol consumption on the weekends have a roughly similar probability of recieving any given grade. The lowest drinkers are expected to have a slightly higher probability of receiving the highest grade than the higher levels of drinking. However, the pdf's are more overlayed than many people would have guessed."
   ]
  },
  {
   "cell_type": "code",
   "execution_count": 40,
   "metadata": {
    "collapsed": false
   },
   "outputs": [
    {
     "data": {},
     "metadata": {},
     "output_type": "display_data"
    },
    {
     "data": {
      "image/png": "[encoded data removed]",
      "text/plain": [
       "plot without title"
      ]
     },
     "metadata": {},
     "output_type": "display_data"
    }
   ],
   "source": [
    "out_walc <- ggplot(d2, aes(goout, colour=factor(Walc))) + geom_density(adjust=2, alpha = 0.5, size = 1.5) +\n",
    "  ggtitle(\"PDF of Going out and Weekend Alcohol\")\n",
    "out_walc"
   ]
  },
  {
   "cell_type": "code",
   "execution_count": 41,
   "metadata": {
    "collapsed": false
   },
   "outputs": [
    {
     "data": {},
     "metadata": {},
     "output_type": "display_data"
    },
    {
     "data": {
      "image/png": "[encoded data removed]",
      "text/plain": [
       "plot without title"
      ]
     },
     "metadata": {},
     "output_type": "display_data"
    }
   ],
   "source": [
    "out_dalc <- ggplot(d2, aes(Dalc, colour=factor(goout))) + geom_density(adjust=2, alpha = 0.5, size = 1) +\n",
    "  ggtitle(\"PDF of Going Out and Weekday Alcohol\") + labs(x = \"Weekday Alcohol Consumption\")\n",
    "out_dalc"
   ]
  },
  {
   "cell_type": "code",
   "execution_count": 42,
   "metadata": {
    "collapsed": false
   },
   "outputs": [
    {
     "data": {},
     "metadata": {},
     "output_type": "display_data"
    },
    {
     "data": {
      "text/html": [
       "<table>\n",
       "<thead><tr><th scope=col>x</th><th scope=col>freq</th></tr></thead>\n",
       "<tbody>\n",
       "\t<tr><td>1  </td><td>276</td></tr>\n",
       "\t<tr><td>2  </td><td> 75</td></tr>\n",
       "\t<tr><td>3  </td><td> 26</td></tr>\n",
       "\t<tr><td>4  </td><td>  9</td></tr>\n",
       "\t<tr><td>5  </td><td>  9</td></tr>\n",
       "</tbody>\n",
       "</table>\n"
      ],
      "text/latex": [
       "\\begin{tabular}{r|ll}\n",
       " x & freq\\\\\n",
       "\\hline\n",
       "\t 1   & 276\\\\\n",
       "\t 2   &  75\\\\\n",
       "\t 3   &  26\\\\\n",
       "\t 4   &   9\\\\\n",
       "\t 5   &   9\\\\\n",
       "\\end{tabular}\n"
      ],
      "text/markdown": [
       "\n",
       "x | freq | \n",
       "|---|---|---|---|---|\n",
       "| 1   | 276 | \n",
       "| 2   |  75 | \n",
       "| 3   |  26 | \n",
       "| 4   |   9 | \n",
       "| 5   |   9 | \n",
       "\n",
       "\n"
      ],
      "text/plain": [
       "  x freq\n",
       "1 1 276 \n",
       "2 2  75 \n",
       "3 3  26 \n",
       "4 4   9 \n",
       "5 5   9 "
      ]
     },
     "metadata": {},
     "output_type": "display_data"
    },
    {
     "data": {
      "text/html": [
       "<table>\n",
       "<thead><tr><th scope=col>x</th><th scope=col>freq</th></tr></thead>\n",
       "<tbody>\n",
       "\t<tr><td>1  </td><td>151</td></tr>\n",
       "\t<tr><td>2  </td><td> 85</td></tr>\n",
       "\t<tr><td>3  </td><td> 80</td></tr>\n",
       "\t<tr><td>4  </td><td> 51</td></tr>\n",
       "\t<tr><td>5  </td><td> 28</td></tr>\n",
       "</tbody>\n",
       "</table>\n"
      ],
      "text/latex": [
       "\\begin{tabular}{r|ll}\n",
       " x & freq\\\\\n",
       "\\hline\n",
       "\t 1   & 151\\\\\n",
       "\t 2   &  85\\\\\n",
       "\t 3   &  80\\\\\n",
       "\t 4   &  51\\\\\n",
       "\t 5   &  28\\\\\n",
       "\\end{tabular}\n"
      ],
      "text/markdown": [
       "\n",
       "x | freq | \n",
       "|---|---|---|---|---|\n",
       "| 1   | 151 | \n",
       "| 2   |  85 | \n",
       "| 3   |  80 | \n",
       "| 4   |  51 | \n",
       "| 5   |  28 | \n",
       "\n",
       "\n"
      ],
      "text/plain": [
       "  x freq\n",
       "1 1 151 \n",
       "2 2  85 \n",
       "3 3  80 \n",
       "4 4  51 \n",
       "5 5  28 "
      ]
     },
     "metadata": {},
     "output_type": "display_data"
    },
    {
     "data": {
      "image/png": "[encoded data removed]",
      "text/plain": [
       "plot without title"
      ]
     },
     "metadata": {},
     "output_type": "display_data"
    }
   ],
   "source": [
    "dalc_walc <- ggplot(d2, aes(Walc, colour=factor(Dalc))) + geom_density(adjust=2, alpha = 0.5, size = 1) +\n",
    "  ggtitle(\"PDF of Weekend Alcohol and WeekDay Acohol\") + labs(x = \"Weekend Alcohol Consumption\")\n",
    "dalc_walc\n",
    "count(d2$Dalc)\n",
    "count(d2$Walc)"
   ]
  },
  {
   "cell_type": "markdown",
   "metadata": {},
   "source": [
    "Note that there are very few data points representing high weekday alcohol consumtion so we will be cautious when predicting anything based off that."
   ]
  },
  {
   "cell_type": "code",
   "execution_count": 43,
   "metadata": {
    "collapsed": false
   },
   "outputs": [
    {
     "data": {},
     "metadata": {},
     "output_type": "display_data"
    },
    {
     "data": {
      "image/png": "[encoded data removed]",
      "text/plain": [
       "plot without title"
      ]
     },
     "metadata": {},
     "output_type": "display_data"
    }
   ],
   "source": [
    "sex_study <- ggplot(d2, aes(studytime, colour=factor(sex))) + geom_density(adjust=2, alpha = 0.5, size = 1) +\n",
    "  ggtitle(\"PDF of Gender and Study Time\") + labs(x = \"Study Time\")\n",
    "sex_study"
   ]
  },
  {
   "cell_type": "markdown",
   "metadata": {},
   "source": [
    "This shows that we expect Female Students to on average spend more time studying than Male Students."
   ]
  },
  {
   "cell_type": "markdown",
   "metadata": {},
   "source": [
    "## This next section examines the relationship between a few variables using bar charts and similar methods"
   ]
  },
  {
   "cell_type": "code",
   "execution_count": 44,
   "metadata": {
    "collapsed": false
   },
   "outputs": [
    {
     "data": {},
     "metadata": {},
     "output_type": "display_data"
    },
    {
     "data": {
      "image/png": "[encoded data removed]",
      "text/plain": [
       "plot without title"
      ]
     },
     "metadata": {},
     "output_type": "display_data"
    }
   ],
   "source": [
    "day = ggplot(d2, aes(goout, G3)) + geom_bar(aes(fill = factor(Dalc)), position = \"dodge\", stat=\"identity\") + ggtitle(\"Weekday Drinking\")\n",
    "day"
   ]
  },
  {
   "cell_type": "code",
   "execution_count": 45,
   "metadata": {
    "collapsed": false
   },
   "outputs": [
    {
     "data": {},
     "metadata": {},
     "output_type": "display_data"
    },
    {
     "data": {
      "image/png": "[encoded data removed]",
      "text/plain": [
       "plot without title"
      ]
     },
     "metadata": {},
     "output_type": "display_data"
    }
   ],
   "source": [
    "end = ggplot(d2, aes(goout, G3)) + geom_bar(aes(fill = factor(Walc)), position = \"dodge\", stat=\"identity\") + ggtitle(\"Weekend Drinking\")\n",
    "end"
   ]
  },
  {
   "cell_type": "code",
   "execution_count": 46,
   "metadata": {
    "collapsed": false
   },
   "outputs": [
    {
     "data": {},
     "metadata": {},
     "output_type": "display_data"
    },
    {
     "data": {
      "image/png": "[encoded data removed]",
      "text/plain": [
       "plot without title"
      ]
     },
     "metadata": {},
     "output_type": "display_data"
    }
   ],
   "source": [
    "ggplot(d2, aes(Dalc, G3)) + geom_bar(aes(fill = factor(Walc)), position = \"dodge\", stat=\"identity\") + ggtitle(\"Weekend Drinking vs. Weekday Drinking\")"
   ]
  },
  {
   "cell_type": "code",
   "execution_count": 47,
   "metadata": {
    "collapsed": false
   },
   "outputs": [
    {
     "data": {},
     "metadata": {},
     "output_type": "display_data"
    },
    {
     "data": {
      "image/png": "[encoded data removed]",
      "text/plain": [
       "plot without title"
      ]
     },
     "metadata": {},
     "output_type": "display_data"
    }
   ],
   "source": [
    "fail_g3 <- ggplot(d2, aes(failures)) + ggtitle(\"Expected Grade by Failures\") + geom_histogram(aes(fill=factor(G3)),binwidth=1, position=\"fill\")\n",
    "fail_g3"
   ]
  },
  {
   "cell_type": "markdown",
   "metadata": {},
   "source": [
    "This shows us expected grade received in the calss based on history of failing classes. Simple trends identified are that if you have never failed a class you have a lower probability of getting a grade of 0 in the class than if you have failed 3 or more classes previously. Also, if you have failed at least two classes you have pretty much no expected chance of getting a perfect score of 20 in the class."
   ]
  },
  {
   "cell_type": "markdown",
   "metadata": {},
   "source": [
    "## We looked next at the relationship between School/Family Support and Final Grade"
   ]
  },
  {
   "cell_type": "code",
   "execution_count": 48,
   "metadata": {
    "collapsed": false,
    "scrolled": false
   },
   "outputs": [
    {
     "data": {},
     "metadata": {},
     "output_type": "display_data"
    },
    {
     "data": {
      "image/png": "[encoded data removed]",
      "text/plain": [
       "plot without title"
      ]
     },
     "metadata": {},
     "output_type": "display_data"
    }
   ],
   "source": [
    "school_g3 <- ggplot(d2, aes(G3, fill = factor(famsup), colour = factor(famsup))) + geom_density(alpha = 0.1) +\n",
    "  labs(title = \"PDF of Family Support and Final Grade\")\n",
    "school_g3"
   ]
  },
  {
   "cell_type": "markdown",
   "metadata": {},
   "source": [
    "Very little difference in the above graph and potential issue with the problem in the data set being clustered around zero and not having values 1-3"
   ]
  },
  {
   "cell_type": "code",
   "execution_count": 49,
   "metadata": {
    "collapsed": false
   },
   "outputs": [
    {
     "data": {},
     "metadata": {},
     "output_type": "display_data"
    },
    {
     "data": {
      "image/png": "[encoded data removed]",
      "text/plain": [
       "plot without title"
      ]
     },
     "metadata": {},
     "output_type": "display_data"
    }
   ],
   "source": [
    "fam_g3 <- ggplot(d2, aes(G3, fill=factor(schoolsup), colour = factor(schoolsup))) + geom_density(alpha = 0.1) +\n",
    "  labs(title = \"PDF of School Support and Final Grade\")\n",
    "fam_g3"
   ]
  },
  {
   "cell_type": "markdown",
   "metadata": {},
   "source": [
    "We see that students not receiving school support are slightly more likely to receive a higher grade on average. This however could be due to the fact that they are the students who naturally do better in school anyway and it is possible that this gap would be larger between the two groups of students if the group who are receiving school support were not. Also the strange cluster around zero and missing values for grades 1-3 are possibly throwing this off a little bit so we are cautious to read too much in to it."
   ]
  },
  {
   "cell_type": "markdown",
   "metadata": {},
   "source": [
    "## Quick examination of absences"
   ]
  },
  {
   "cell_type": "code",
   "execution_count": 50,
   "metadata": {
    "collapsed": false
   },
   "outputs": [
    {
     "name": "stderr",
     "output_type": "stream",
     "text": [
      "`stat_bin()` using `bins = 30`. Pick better value with `binwidth`.\n"
     ]
    },
    {
     "data": {},
     "metadata": {},
     "output_type": "display_data"
    },
    {
     "data": {
      "image/png": "[encoded data removed]",
      "text/plain": [
       "plot without title"
      ]
     },
     "metadata": {},
     "output_type": "display_data"
    }
   ],
   "source": [
    "abs_hist = ggplot(d2, aes(absences)) + geom_histogram(fill = \"green\", alpha = \"0.7\", color = \"black\") +\n",
    "  labs(title = \"Histogram of Absences\", x = \"Absences\")\n",
    "abs_hist"
   ]
  },
  {
   "cell_type": "code",
   "execution_count": 51,
   "metadata": {
    "collapsed": false,
    "scrolled": false
   },
   "outputs": [
    {
     "data": {},
     "metadata": {},
     "output_type": "display_data"
    },
    {
     "data": {
      "image/png": "[encoded data removed]",
      "text/plain": [
       "plot without title"
      ]
     },
     "metadata": {},
     "output_type": "display_data"
    }
   ],
   "source": [
    "abs_hex <- ggplot(d2, aes(absences, G3)) + stat_binhex(colour=\"grey\") + labs(title = \"Hexbin Absences vs. Final Grade\") +\n",
    "  labs(y = \"Final Grade\")\n",
    "abs_hex"
   ]
  },
  {
   "cell_type": "markdown",
   "metadata": {},
   "source": [
    "## Breaking down grades across family sizes"
   ]
  },
  {
   "cell_type": "code",
   "execution_count": 52,
   "metadata": {
    "collapsed": false,
    "scrolled": false
   },
   "outputs": [
    {
     "data": {},
     "metadata": {},
     "output_type": "display_data"
    },
    {
     "data": {
      "image/png": "[encoded data removed]",
      "text/plain": [
       "plot without title"
      ]
     },
     "metadata": {},
     "output_type": "display_data"
    }
   ],
   "source": [
    "ggplot(d1, aes(G3)) + ggtitle(\"Grade by Family Size\") + geom_density(aes(fill=factor(famsize)), position=\"fill\") +\n",
    "  labs(x = \"Final Grade\")"
   ]
  },
  {
   "cell_type": "markdown",
   "metadata": {},
   "source": [
    "We see that students of a family size three or smaller are more likely to receive higher grades and students of families size larger than three however the dataset provided to us was unclear as to what exactly these family categories entail. For example a family of size three could be two parents and an only child or it could be a single parent supporting two kids which have very different hypothetical implications."
   ]
  },
  {
   "cell_type": "markdown",
   "metadata": {},
   "source": [
    "Data found at: https://www.kaggle.com/uciml/student-alcohol-consumption\n",
    "Statistics 141A Course at UC Davis Final Project Exploratory Data Analysis Contributors:\n",
    "Jeremy Weidner,\n",
    "Audrey Chu,\n",
    "Weizhou Wang"
   ]
  }
 ],
 "metadata": {
  "kernelspec": {
   "display_name": "R",
   "language": "R",
   "name": "ir"
  },
  "language_info": {
   "codemirror_mode": "r",
   "file_extension": ".r",
   "mimetype": "text/x-r-source",
   "name": "R",
   "pygments_lexer": "r",
   "version": "3.3.2"
  }
 },
 "nbformat": 4,
 "nbformat_minor": 1
}
